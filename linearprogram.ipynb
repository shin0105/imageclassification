{
 "cells": [
  {
   "cell_type": "code",
   "execution_count": 8,
   "metadata": {},
   "outputs": [],
   "source": [
    "from pulp import *\n",
    "\n",
    "prob = LpProblem('prob', LpMinimize)"
   ]
  },
  {
   "cell_type": "code",
   "execution_count": 9,
   "metadata": {},
   "outputs": [
    {
     "name": "stderr",
     "output_type": "stream",
     "text": [
      "<>:14: SyntaxWarning: \"is\" with a literal. Did you mean \"==\"?\n",
      "<>:14: SyntaxWarning: \"is\" with a literal. Did you mean \"==\"?\n",
      "<>:14: SyntaxWarning: \"is\" with a literal. Did you mean \"==\"?\n",
      "<>:14: SyntaxWarning: \"is\" with a literal. Did you mean \"==\"?\n",
      "/var/folders/z9/m0prdp5s2mdcl7_cm9qjtnmh0000gn/T/ipykernel_4403/3511218847.py:14: SyntaxWarning: \"is\" with a literal. Did you mean \"==\"?\n",
      "  D = {node: 1 if node is 'S' else -1 if node is 'T' else 0 for node in N}\n",
      "/var/folders/z9/m0prdp5s2mdcl7_cm9qjtnmh0000gn/T/ipykernel_4403/3511218847.py:14: SyntaxWarning: \"is\" with a literal. Did you mean \"==\"?\n",
      "  D = {node: 1 if node is 'S' else -1 if node is 'T' else 0 for node in N}\n"
     ]
    }
   ],
   "source": [
    "# Defining problem instance\n",
    "\n",
    "N = ['S', 'A', 'C', 'D', 'E', 'H', 'G', 'T']\n",
    "\n",
    "C = {'S': {'A': 1.4, 'C': 1.3, 'D':0.4}, \n",
    "     'A': {'S': 1.4, 'H': 0.75, 'G': 0.4}, \n",
    "     'C': {'S': 1.3,'D':0.85,'E':1.2}, \n",
    "     'D': {'S': 0.4, 'C': 0.85,'E':1.8,'G':1.2}, \n",
    "     'E': {'C': 1.2,'D':1.8,'T':2.5},\n",
    "     'H': {'A': 0.75,'G':0.85,'T':1.6},\n",
    "     'G': {'A': 0.4,'D':1.2,'H':0.85,'T':1.3},\n",
    "     'T': {'E': 2.5,'H':1.6,'G':1.3}}\n",
    "\n",
    "D = {node: 1 if node is 'S' else -1 if node is 'T' else 0 for node in N}"
   ]
  },
  {
   "cell_type": "code",
   "execution_count": 10,
   "metadata": {},
   "outputs": [],
   "source": [
    "# Preparing \"tables\"\n",
    "\n",
    "E = [(i,j) for i in N for j in N if i in C.keys() if j in C[i].keys()]"
   ]
  },
  {
   "cell_type": "code",
   "execution_count": 11,
   "metadata": {},
   "outputs": [],
   "source": [
    "# Declaring decision variables. \n",
    "\n",
    "x = LpVariable.dicts('x', E,  lowBound = 0, upBound = 1, cat = LpInteger)"
   ]
  },
  {
   "cell_type": "code",
   "execution_count": 12,
   "metadata": {},
   "outputs": [],
   "source": [
    "# Declaring objectives\n",
    "\n",
    "prob += lpSum([C[i][j]*x[i,j] for (i,j) in E])\n",
    "\n",
    "for i in N:\n",
    "    prob += (lpSum([x[i,j] for j in N if (i,j) in E]) \n",
    "             - lpSum([x[k,i] for k in N if (k,i) in E])) == D[i]"
   ]
  },
  {
   "cell_type": "code",
   "execution_count": 13,
   "metadata": {},
   "outputs": [
    {
     "name": "stdout",
     "output_type": "stream",
     "text": [
      "STATUS\n",
      "Optimal\n",
      "\n",
      "SOLUTION\n",
      "x_('A',_'G') = 0.0\n",
      "x_('A',_'H') = 0.0\n",
      "x_('A',_'S') = 0.0\n",
      "x_('C',_'D') = 0.0\n",
      "x_('C',_'E') = 0.0\n",
      "x_('C',_'S') = 0.0\n",
      "x_('D',_'C') = 0.0\n",
      "x_('D',_'E') = 0.0\n",
      "x_('D',_'G') = 1.0\n",
      "x_('D',_'S') = 0.0\n",
      "x_('E',_'C') = 0.0\n",
      "x_('E',_'D') = 0.0\n",
      "x_('E',_'T') = 0.0\n",
      "x_('G',_'A') = 0.0\n",
      "x_('G',_'D') = 0.0\n",
      "x_('G',_'H') = 0.0\n",
      "x_('G',_'T') = 1.0\n",
      "x_('H',_'A') = 0.0\n",
      "x_('H',_'G') = 0.0\n",
      "x_('H',_'T') = 0.0\n",
      "x_('S',_'A') = 0.0\n",
      "x_('S',_'C') = 0.0\n",
      "x_('S',_'D') = 1.0\n",
      "x_('T',_'E') = 0.0\n",
      "x_('T',_'G') = 0.0\n",
      "x_('T',_'H') = 0.0\n"
     ]
    }
   ],
   "source": [
    "# Solving problem\n",
    "\n",
    "status = prob.solve(PULP_CBC_CMD(msg=0))\n",
    "\n",
    "print(f'STATUS\\n{LpStatus[status]}\\n')\n",
    "\n",
    "print('SOLUTION')\n",
    "for v in prob.variables():\n",
    "    print(v.name, '=', v.varValue)"
   ]
  }
 ],
 "metadata": {
  "kernelspec": {
   "display_name": "ml",
   "language": "python",
   "name": "python3"
  },
  "language_info": {
   "codemirror_mode": {
    "name": "ipython",
    "version": 3
   },
   "file_extension": ".py",
   "mimetype": "text/x-python",
   "name": "python",
   "nbconvert_exporter": "python",
   "pygments_lexer": "ipython3",
   "version": "3.11.3"
  }
 },
 "nbformat": 4,
 "nbformat_minor": 2
}
