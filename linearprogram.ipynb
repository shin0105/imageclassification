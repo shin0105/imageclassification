from pulp import LpProblem, LpVariable, LpMinimize, lpSum, value

def shortest_path_ilp(graph, source, destination):
    num_nodes = len(graph)
    
    # Define the ILP problem
    prob = LpProblem("Shortest_Path_ILP", LpMinimize)

    # Decision variables: binary variables indicating whether an edge is selected
    x = [[LpVariable(f"x_{i}_{j}", cat='Binary') for j in range(num_nodes)] for i in range(num_nodes)]

    # Objective function: minimize total distance
    prob += lpSum([graph[i][j] * x[i][j] for i in range(num_nodes) for j in range(num_nodes)])

    # Constraints
    # Ensure exactly one outgoing edge from the source node
    prob += lpSum(x[source][j] for j in range(num_nodes)) == 1
    
    # Ensure exactly one incoming edge to the destination node
    prob += lpSum(x[i][destination] for i in range(num_nodes)) == 1

    # Ensure connectivity and eliminate cycles
    for i in range(num_nodes):
        if i != source and i != destination:
            prob += lpSum(x[i][j] for j in range(num_nodes)) - lpSum(x[j][i] for j in range(num_nodes)) == 0

    # Solve the ILP problem
    prob.solve()

    # Retrieve the solution
    path = []
    i = source
    while i != destination:
        for j in range(num_nodes):
            if value(x[i][j]) == 1:
                path.append((i, j))
                i = j
                break

    return path, value(prob.objective)

# Example graph represented by an adjacency matrix
graph = [
    [0, 2, 0, 0, 3],
    [0, 0, 4, 0, 0],
    [0, 0, 0, 7, 0],
    [0, 0, 0, 0, 1],
    [0, 0, 0, 0, 0]
]

source_node = 0
destination_node = 4

shortest_path, shortest_distance = shortest_path_ilp(graph, source_node, destination_node)
print("Shortest path:", shortest_path)
print("Shortest distance:", shortest_distance)